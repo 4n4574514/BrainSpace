{
  "cells": [
    {
      "cell_type": "code",
      "execution_count": null,
      "metadata": {
        "collapsed": false
      },
      "outputs": [],
      "source": [
        "%matplotlib inline"
      ]
    },
    {
      "cell_type": "markdown",
      "metadata": {},
      "source": [
        "\nFunctional gradients across spatial scales\n=================================================\nTo assess consistency of gradient mapping, in this example we will compute the\ngradients across different spatial scales. Specifically we subdivide the conte69\nsurface into 100, 200, 300, and 400 parcels based on a functional clustering\n(Schaefer et al., 2017) and built functional gradients from these\nrepresentations.\n"
      ]
    },
    {
      "cell_type": "markdown",
      "metadata": {},
      "source": [
        "First, let's load the different parcellations (Schaefer et al., 2017) and\ntheir corresponding mean connectivity matrices. We also load the conte69\nsurface. These files are provided with BrainSpace.\n\n"
      ]
    },
    {
      "cell_type": "code",
      "execution_count": null,
      "metadata": {
        "collapsed": false
      },
      "outputs": [],
      "source": [
        "from brainspace.data.base import load_group_hcp, load_parcellation, load_conte69\n\n# Different parcellations\nlist_parcels = [100, 200, 300, 400]\n\n# Load parcellations and mean connectivity matrices\nlabelings = [load_parcellation('schaefer', n_parcels=n) for n in list_parcels]\nconn_matrices = [load_group_hcp('schaefer', n_parcels=n) for n in list_parcels]\n\n# and load the conte69 hemisphere surfaces\nsurf_lh, surf_rh = load_conte69()"
      ]
    },
    {
      "cell_type": "markdown",
      "metadata": {},
      "source": [
        "Let's see the different parcellations of the surface. We have to append the\nparcellations to the left and right hemispheres first.\n\n"
      ]
    },
    {
      "cell_type": "code",
      "execution_count": null,
      "metadata": {
        "collapsed": false
      },
      "outputs": [],
      "source": [
        "from brainspace.plotting import plot_hemispheres\n\n\nn_pts_lh = surf_lh.n_points\nn_parcellations = len(list_parcels)\n\n# first we are going to append the parcellation to the hemispheres\nname_parcels = [None] * n_parcellations\nfor i, np in enumerate(list_parcels):\n    array_name = 'Schaefer{0}'.format(np)\n    name_parcels[i] = array_name\n\n    surf_lh.append_array(labelings[i][:n_pts_lh], name=array_name, at='p')\n    surf_rh.append_array(labelings[i][n_pts_lh:], name=array_name, at='p')\n\n# Then plot the data on the surface\nplot_hemispheres(surf_lh, surf_rh, array_name=name_parcels, interactive=False,\n                 embed_nb=True, size=(800, 800), cmap_name='tab20')"
      ]
    },
    {
      "cell_type": "markdown",
      "metadata": {},
      "source": [
        "We have 4 mean connectivity matrices built from each parcellation.\n\n"
      ]
    },
    {
      "cell_type": "code",
      "execution_count": null,
      "metadata": {
        "collapsed": false
      },
      "outputs": [],
      "source": [
        "import matplotlib.pyplot as plt\n\nfig, ax = plt.subplots(1, n_parcellations, figsize=(10, 25))\n\n# The mean connectivity matrix built from the HCP data for each parcellation\nfor i in range(n_parcellations):\n    ax[i].imshow(conn_matrices[i], cmap='hot', interpolation='bilinear')\n\n    ax[i].set_title(name_parcels[i])\n    ax[i].xaxis.set_visible(False)\n    ax[i].yaxis.set_visible(False)"
      ]
    },
    {
      "cell_type": "markdown",
      "metadata": {},
      "source": [
        "Now, we use our GradientMaps class to build one gradient for each connectivity\nmatrix. Gradients are the appended to the surfaces.\n\n"
      ]
    },
    {
      "cell_type": "code",
      "execution_count": null,
      "metadata": {
        "collapsed": false
      },
      "outputs": [],
      "source": [
        "import numpy as np\n\nfrom brainspace.gradient import GradientMaps\nfrom brainspace.utils.parcellation import map_to_labels\n\nname_gradients = [None] * n_parcellations\nfor i, cm in enumerate(conn_matrices):\n    # We ask for 2 gradients\n    gm = GradientMaps(n_gradients=1, approach='dm', kernel='normalized_angle',\n                      random_state=0)\n\n    # fit to the connectivity matrix\n    gm.fit(cm)\n\n    # append gradients to the surfaces\n    array_name = 'grad0_Schaefer{0}'.format(list_parcels[i])\n    name_gradients[i] = array_name\n    grad = gm.gradients_[:, 0]\n\n    # map the gradient to the parcels\n    grad = map_to_labels(grad, labelings[i], mask=labelings[i] != 0,\n                         fill=np.nan)\n\n    # append to hemispheres\n    print(\"Appending '%s'\" % array_name)\n    surf_lh.append_array(grad[:n_pts_lh], name=array_name, at='p')\n    surf_rh.append_array(grad[n_pts_lh:], name=array_name, at='p')"
      ]
    },
    {
      "cell_type": "markdown",
      "metadata": {},
      "source": [
        "Finally, we plot the first gradient for each parcellation as follows:\n\n"
      ]
    },
    {
      "cell_type": "code",
      "execution_count": null,
      "metadata": {
        "collapsed": false
      },
      "outputs": [],
      "source": [
        "plot_hemispheres(surf_lh, surf_rh, array_name=name_gradients, interactive=False,\n                 embed_nb=True, size=(800, 800), cmap_name='viridis')"
      ]
    }
  ],
  "metadata": {
    "kernelspec": {
      "display_name": "Python 3",
      "language": "python",
      "name": "python3"
    },
    "language_info": {
      "codemirror_mode": {
        "name": "ipython",
        "version": 3
      },
      "file_extension": ".py",
      "mimetype": "text/x-python",
      "name": "python",
      "nbconvert_exporter": "python",
      "pygments_lexer": "ipython3",
      "version": "3.7.3"
    }
  },
  "nbformat": 4,
  "nbformat_minor": 0
}