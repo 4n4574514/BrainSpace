{
  "cells": [
    {
      "cell_type": "code",
      "execution_count": null,
      "metadata": {
        "collapsed": false
      },
      "outputs": [],
      "source": [
        "%matplotlib inline"
      ]
    },
    {
      "cell_type": "markdown",
      "metadata": {},
      "source": [
        "\nTutorial 2: Customizing and aligning gradients\n=================================================\nIn this tutorial you\u2019ll learn about the methods available within the\nGradientMaps class. The flexible usage of this class allows for the\ncustomization of gradient computation with different kernels and dimensionality\nreductions, as well as aligning gradients from different datasets. This\ntutorial will only show you how to apply these techniques.\n"
      ]
    },
    {
      "cell_type": "markdown",
      "metadata": {},
      "source": [
        "As before, we\u2019ll start by loading the sample data.\n\n"
      ]
    },
    {
      "cell_type": "code",
      "execution_count": null,
      "metadata": {
        "collapsed": false
      },
      "outputs": [],
      "source": [
        "import warnings\nwarnings.simplefilter('ignore')\n\nfrom brainspace.datasets import load_group_fc, load_parcellation, load_conte69\n\n# First load mean connectivity matrix and Schaefer parcellation\nconn_matrix = load_group_fc('schaefer', scale=400)\nlabeling = load_parcellation('schaefer', scale=400, join=True)\n\nmask = labeling != 0\n\n# and load the conte69 hemisphere surfaces\nsurf_lh, surf_rh = load_conte69()"
      ]
    },
    {
      "cell_type": "markdown",
      "metadata": {},
      "source": [
        "The GradientMaps object allows for many different kernels and dimensionality\nreduction techniques. Let\u2019s have a look at three different kernels.\n\n"
      ]
    },
    {
      "cell_type": "code",
      "execution_count": null,
      "metadata": {
        "collapsed": false
      },
      "outputs": [],
      "source": [
        "import numpy as np\n\nfrom brainspace.gradient import GradientMaps\nfrom brainspace.plotting import plot_hemispheres\nfrom brainspace.utils.parcellation import map_to_labels\n\nkernels = ['pearson', 'spearman', 'normalized_angle']\n\ngradients_kernel = [None] * len(kernels)\nfor i, k in enumerate(kernels):\n    gm = GradientMaps(kernel=k, approach='dm', random_state=0)\n    gm.fit(conn_matrix)\n\n    gradients_kernel[i] = map_to_labels(gm.gradients_[:, i], labeling, mask=mask,\n                                        fill=np.nan)\n\n\nlabel_text = ['Pearson', 'Spearman', 'Normalized\\nAngle']\nplot_hemispheres(surf_lh, surf_rh, array_name=gradients_kernel, size=(1200, 800),\n                 cmap='viridis_r', color_bar=True, label_text=label_text)"
      ]
    },
    {
      "cell_type": "markdown",
      "metadata": {},
      "source": [
        "It seems the gradients provided by these kernels are quite similar although\ntheir scaling is quite different. Do note that the gradients are in arbitrary\nunits, so the smaller/larger axes across kernels do not imply anything.\nSimilar to using different kernels, we can also use different dimensionality\nreduction techniques.\n\n"
      ]
    },
    {
      "cell_type": "code",
      "execution_count": null,
      "metadata": {
        "collapsed": false
      },
      "outputs": [],
      "source": [
        "# PCA, Laplacian eigenmaps and diffusion mapping\nembeddings = ['pca', 'le', 'dm']\n\ngradients_embedding = [None] * len(embeddings)\nfor i, emb in enumerate(embeddings):\n    gm = GradientMaps(kernel='normalized_angle', approach=emb, random_state=0)\n    gm.fit(conn_matrix)\n\n    gradients_embedding[i] = map_to_labels(gm.gradients_[:, 0], labeling, mask=mask,\n                                           fill=np.nan)\n\n\n# sphinx_gallery_thumbnail_number = 2\nlabel_text = ['PCA', 'LE', 'DM']\nplot_hemispheres(surf_lh, surf_rh, array_name=gradients_embedding, size=(1200, 800),\n                 cmap='viridis_r', color_bar=True, label_text=label_text)"
      ]
    },
    {
      "cell_type": "markdown",
      "metadata": {},
      "source": [
        "A more principled way of increasing comparability across gradients are\nalignment techniques. BrainSpace provides two alignment techniques:\nProcrustes analysis, and joint alignment. For this example we will load\nfunctional connectivity data of a second subject group and align it with the\nfirst group.\n\n"
      ]
    },
    {
      "cell_type": "code",
      "execution_count": null,
      "metadata": {
        "collapsed": false
      },
      "outputs": [],
      "source": [
        "conn_matrix2 = load_group_fc('schaefer', scale=400, group='holdout')\ngp = GradientMaps(kernel='normalized_angle', alignment='procrustes')\ngj = GradientMaps(kernel='normalized_angle', alignment='joint')\n\ngp.fit([conn_matrix, conn_matrix2])\ngj.fit([conn_matrix, conn_matrix2])"
      ]
    },
    {
      "cell_type": "markdown",
      "metadata": {},
      "source": [
        "Here, `gp` contains the Procrustes aligned data and `gj` contains the joint\naligned data. Let\u2019s plot them, but in separate figures to keep things\norganized.\n\n"
      ]
    },
    {
      "cell_type": "code",
      "execution_count": null,
      "metadata": {
        "collapsed": false
      },
      "outputs": [],
      "source": [
        "# First gradient from original and holdout data, without alignment\ngradients_unaligned = [None] * 2\nfor i in range(2):\n    gradients_unaligned[i] = map_to_labels(gp.gradients_[i][:, 0], labeling,\n                                           mask=mask, fill=np.nan)\n\nlabel_text = ['Unaligned Group 1', 'Unaligned Group 2']\nplot_hemispheres(surf_lh, surf_rh, array_name=gradients_unaligned, size=(1200, 500),\n                 cmap='viridis_r', color_bar=True, label_text=label_text)"
      ]
    },
    {
      "cell_type": "code",
      "execution_count": null,
      "metadata": {
        "collapsed": false
      },
      "outputs": [],
      "source": [
        "# With procrustes alignment\ngradients_procrustes = [None] * 2\nfor i in range(2):\n    gradients_procrustes[i] = map_to_labels(gp.aligned_[i][:, 0], labeling, mask=mask,\n                                            fill=np.nan)\n\nlabel_text = ['Procrustes Group 1', 'Procrustes Group 2']\nplot_hemispheres(surf_lh, surf_rh, array_name=gradients_procrustes, size=(1200, 500),\n                 cmap='viridis_r', color_bar=True, label_text=label_text)"
      ]
    },
    {
      "cell_type": "code",
      "execution_count": null,
      "metadata": {
        "collapsed": false
      },
      "outputs": [],
      "source": [
        "# With joint alignment\ngradients_joint = [None] * 2\nfor i in range(2):\n    gradients_joint[i] = map_to_labels(gj.aligned_[i][:, 0], labeling, mask=mask,\n                                       fill=np.nan)\n\nlabel_text = ['Joint Group 1', 'Joint Group 2']\nplot_hemispheres(surf_lh, surf_rh, array_name=gradients_joint, size=(1200, 500),\n                 cmap='viridis_r', color_bar=True, label_text=label_text)"
      ]
    },
    {
      "cell_type": "markdown",
      "metadata": {},
      "source": [
        "Although in this example, we don't see any big differences, if the input data\nwas less similar, alignments may also resolve changes in the order of the\ngradients. However, you should always inspect the output of an alignment;\nif the input data are sufficiently dissimilar then the alignment may produce\nodd results.\n\n\nIn some instances, you may want to align gradients to an out-of-sample\ngradient, for example when aligning individuals to a hold-out group gradient.\nWhen performing a Procrustes alignemnt, a 'reference' can be specified.\nThe first alignment iteration will then be to the reference. For purposes of\nthis example, we will use the gradient of the hold-out group as the\nreference.\n\n"
      ]
    },
    {
      "cell_type": "code",
      "execution_count": null,
      "metadata": {
        "collapsed": false
      },
      "outputs": [],
      "source": [
        "gref = GradientMaps(kernel='normalized_angle', approach='le')\ngref.fit(conn_matrix2)\n\ngalign = GradientMaps(kernel='normalized_angle', approach='le', alignment='procrustes')\ngalign.fit(conn_matrix, reference=gref.gradients_)"
      ]
    },
    {
      "cell_type": "markdown",
      "metadata": {},
      "source": [
        "The gradients in `galign.aligned_` are now aligned to the reference\ngradients.\n\nThat concludes the second tutorial. In the third tutorial we will consider\nnull hypothesis testing of comparisons between gradients and other markers.\n\n"
      ]
    }
  ],
  "metadata": {
    "kernelspec": {
      "display_name": "Python 3",
      "language": "python",
      "name": "python3"
    },
    "language_info": {
      "codemirror_mode": {
        "name": "ipython",
        "version": 3
      },
      "file_extension": ".py",
      "mimetype": "text/x-python",
      "name": "python",
      "nbconvert_exporter": "python",
      "pygments_lexer": "ipython3",
      "version": "3.7.3"
    }
  },
  "nbformat": 4,
  "nbformat_minor": 0
}