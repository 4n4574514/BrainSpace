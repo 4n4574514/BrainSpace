{
  "cells": [
    {
      "cell_type": "code",
      "execution_count": null,
      "metadata": {
        "collapsed": false
      },
      "outputs": [],
      "source": [
        "%matplotlib inline"
      ]
    },
    {
      "cell_type": "markdown",
      "metadata": {},
      "source": [
        "\nTutorial 3: Null models for gradient significance\n==================================================\nIn this tutorial we assess the significance of correlations between the first\ncanonical gradient and data from other modalities (curvature, cortical\nthickness and T1w/T2w image intensity). A normal test of the significance of\nthe correlation cannot be used, because the spatial auto-correlation in MRI\ndata may bias the test statistic. In this tutorial we will show two approaches\nfor null hypothesis testing: spin permutations and Moran spectral\nrandomization.\n\n<div class=\"alert alert-info\"><h4>Note</h4><p>When using either approach to compare gradients to non-gradient markers,\n    we recommend randomizing the non-gradient markers as these randomizations\n    need not maintain the statistical independence between gradients.</p></div>\n"
      ]
    },
    {
      "cell_type": "markdown",
      "metadata": {},
      "source": [
        "Here, we use the spin permutations approach previously proposed in\n`(Alexander-Bloch et al., 2018)\n<https://www.sciencedirect.com/science/article/pii/S1053811918304968>`_,\nwhich preserves the auto-correlation of the permuted feature(s) by rotating\nthe feature data on the spherical domain.\nWe will start by loading the conte69 surfaces for left and right hemispheres,\ntheir corresponding spheres, midline mask, and t1w/t2w intensity as well as\ncortical thickness data, and a template functional gradient.\n\n"
      ]
    },
    {
      "cell_type": "code",
      "execution_count": null,
      "metadata": {
        "collapsed": false
      },
      "outputs": [],
      "source": [
        "import warnings\nwarnings.simplefilter('ignore')\n\n\nfrom brainspace.datasets import (load_gradient, load_t1t2, load_thickness,\n                                 load_conte69)\n\n# load the conte69 hemisphere surfaces and spheres\nsurf_lh, surf_rh = load_conte69()\nsphere_lh, sphere_rh = load_conte69(as_sphere=True)\n\nn_pts_lh = surf_lh.n_points\n\n# Load the data\nt1wt2w = load_t1t2()\nt1wt2w_lh, t1wt2w_rh = t1wt2w[:n_pts_lh], t1wt2w[n_pts_lh:]\n\nthickness = load_thickness()\nthickness_lh, thickness_rh = thickness[:n_pts_lh], thickness[n_pts_lh:]\n\n# Template functional gradient\nembedding = load_gradient('fc', idx=0)"
      ]
    },
    {
      "cell_type": "markdown",
      "metadata": {},
      "source": [
        "Let\u2019s first generate some null data using spintest.\n\n"
      ]
    },
    {
      "cell_type": "code",
      "execution_count": null,
      "metadata": {
        "collapsed": false
      },
      "outputs": [],
      "source": [
        "import numpy as np\n\nfrom brainspace.null_models import SpinRandomization\nfrom brainspace.plotting import plot_hemispheres\n\n# Let's create some rotations\nn_permutations = 1000\n\nsp = SpinRandomization(n_rep=n_permutations, random_state=0)\nsp.fit(sphere_lh, points_rh=sphere_rh)\n\nt1wt2w_rotated = np.hstack(sp.randomize(t1wt2w_lh, t1wt2w_rh))\nthickness_rotated = np.hstack(sp.randomize(thickness_lh, thickness_rh))"
      ]
    },
    {
      "cell_type": "markdown",
      "metadata": {},
      "source": [
        "As an illustration of the rotation, let\u2019s plot the original t1w/t2w data\n\n"
      ]
    },
    {
      "cell_type": "code",
      "execution_count": null,
      "metadata": {
        "collapsed": false
      },
      "outputs": [],
      "source": [
        "plot_hemispheres(surf_lh, surf_rh, array_name=t1wt2w,\n                 size=(800, 150), cmap_name='viridis',\n                 nan_color=(0.5, 0.5, 0.5, 1))"
      ]
    },
    {
      "cell_type": "markdown",
      "metadata": {},
      "source": [
        "as well as a few rotated versions.\n\n"
      ]
    },
    {
      "cell_type": "code",
      "execution_count": null,
      "metadata": {
        "collapsed": false
      },
      "outputs": [],
      "source": [
        "plot_hemispheres(surf_lh, surf_rh, array_name=t1wt2w_rotated[:3],\n                 size=(800, 450), cmap_name='viridis',\n                 nan_color=(0.5, 0.5, 0.5, 1))"
      ]
    },
    {
      "cell_type": "markdown",
      "metadata": {},
      "source": [
        "Now we simply compute the correlations between the first gradient and the\noriginal data, as well as all rotated data.\n\n"
      ]
    },
    {
      "cell_type": "code",
      "execution_count": null,
      "metadata": {
        "collapsed": false
      },
      "outputs": [],
      "source": [
        "from scipy.stats import pearsonr\n\nfeats = {'t1wt2w': t1wt2w, 'thickness': thickness}\nrotated = {'t1wt2w': t1wt2w_rotated, 'thickness': thickness_rotated}\n\nmask = ~np.isnan(thickness)\nr_spin = {k: np.empty(n_permutations) for k in feats.keys()}\nfor fn, feat in feats.items():\n\n    r_spin = np.empty(n_permutations)\n    for i in range(n_permutations):\n        # Remove non-cortex\n        mask_rot = mask & ~np.isnan(rotated[fn][i])\n        emb = embedding[mask_rot]\n        r_spin[i] = pearsonr(rotated[fn][i][mask_rot], emb)[0]\n\n    r_orig, pv_orig = pearsonr(feat[mask], embedding[mask])\n    pv_spin = (np.count_nonzero(r_spin > r_orig) + 1) / (n_permutations + 1)\n\n    print('{0}:\\n Orig: {1:.5e}\\n Spin: {2:.5e}'.format(fn.capitalize(),\n                                                        pv_orig, pv_spin))\n    print()"
      ]
    },
    {
      "cell_type": "markdown",
      "metadata": {},
      "source": [
        "It is interesting to see that both p-values increase when taking into\nconsideration the auto-correlation present in the surfaces. Also, we can see\nthat the correlation with thickness is no longer statistically significant\nafter spin permutations.\n\n"
      ]
    },
    {
      "cell_type": "markdown",
      "metadata": {},
      "source": [
        "Moran Spectral Randomization (MSR) computes Moran's I, a metric for spatial\nauto-correlation and generates normally distributed data with similar\nauto-correlation. MSR relies on a weight matrix denoting the spatial\nproximity of features to one another. Within neuroimaging, one\nstraightforward example of this is inverse geodesic distance i.e. distance\nalong the cortical surface.\n\nIn this example we will show how to use MSR to assess statistical\nsignificance between cortical markers (here curvature and cortical t1wt2w\nintensity) and the first functional connectivity gradient. We will start by\nloading the left temporal lobe mask, t1w/t2w intensity as well as cortical\nthickness data, and a template functional gradient\n\n"
      ]
    },
    {
      "cell_type": "code",
      "execution_count": null,
      "metadata": {
        "collapsed": false
      },
      "outputs": [],
      "source": [
        "from brainspace.datasets import load_curvature, load_mask\nfrom brainspace.mesh import mesh_elements as me\n\nmask_tl = load_mask(region='temporal')[:n_pts_lh]\n\n# Keep only the temporal lobe.\nembedding_tl = embedding[:n_pts_lh][mask_tl]\nt1wt2w_tl = t1wt2w[:n_pts_lh][mask_tl]\ncurv_tl = load_curvature()[:n_pts_lh][mask_tl]"
      ]
    },
    {
      "cell_type": "markdown",
      "metadata": {},
      "source": [
        "We will now compute the Moran eigenvectors. This can be done either by\nproviding a weight matrix of spatial proximity between each vertex, or by\nproviding a cortical surface. Here we\u2019ll use a cortical surface.\n\n"
      ]
    },
    {
      "cell_type": "code",
      "execution_count": null,
      "metadata": {
        "collapsed": false
      },
      "outputs": [],
      "source": [
        "from brainspace.null_models import MoranSpectralRandomization\n\n# compute spatial weight matrix\nw = me.get_ring_distance(surf_lh, n_ring=1)\nw = w[mask_tl][:, mask_tl]\nw.data **= -1\n\nn_rand = 1000\n\nmsr = MoranSpectralRandomization(n_rep=n_rand, tol=1e-6, random_state=43)\nmsr.fit(w)"
      ]
    },
    {
      "cell_type": "markdown",
      "metadata": {},
      "source": [
        "Using the Moran eigenvectors we can now compute the randomized data.\n\n"
      ]
    },
    {
      "cell_type": "code",
      "execution_count": null,
      "metadata": {
        "collapsed": false
      },
      "outputs": [],
      "source": [
        "curv_rand = msr.randomize(curv_tl)\nt1wt2w_rand = msr.randomize(t1wt2w_tl)"
      ]
    },
    {
      "cell_type": "markdown",
      "metadata": {},
      "source": [
        "Now that we have the randomized data, we can compute correlations between\nthe gradient and the real/randomised data.\n\n"
      ]
    },
    {
      "cell_type": "code",
      "execution_count": null,
      "metadata": {
        "collapsed": false
      },
      "outputs": [],
      "source": [
        "from scipy.stats import pearsonr\nfrom scipy.spatial.distance import cdist\n\nr_orig_curv = pearsonr(curv_tl, embedding_tl)[0]\nr_rand_curv = 1 - cdist(curv_rand, embedding_tl[None], metric='correlation')\n\nr_orig_t1wt2w = pearsonr(t1wt2w_tl, embedding_tl)[0]\nr_rand_t1wt2w = 1 - cdist(t1wt2w_rand, embedding_tl[None], metric='correlation')"
      ]
    },
    {
      "cell_type": "markdown",
      "metadata": {},
      "source": [
        "Finally, the p-values can be computed using the same approach used with\nspin permutations.\n\n"
      ]
    }
  ],
  "metadata": {
    "kernelspec": {
      "display_name": "Python 3",
      "language": "python",
      "name": "python3"
    },
    "language_info": {
      "codemirror_mode": {
        "name": "ipython",
        "version": 3
      },
      "file_extension": ".py",
      "mimetype": "text/x-python",
      "name": "python",
      "nbconvert_exporter": "python",
      "pygments_lexer": "ipython3",
      "version": "3.7.3"
    }
  },
  "nbformat": 4,
  "nbformat_minor": 0
}