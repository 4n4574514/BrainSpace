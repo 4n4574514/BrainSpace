{
  "cells": [
    {
      "cell_type": "code",
      "execution_count": null,
      "metadata": {
        "collapsed": false
      },
      "outputs": [],
      "source": [
        "%matplotlib inline"
      ]
    },
    {
      "cell_type": "markdown",
      "metadata": {},
      "source": [
        "\nEmbedding approaches for gradient construction\n=================================================\nStarting from the resting state connectivity matrix built  from a subset of the\nHuman Connectome Project (HCP) dataset, we generate a sparse matrix and compute\nits affinity matrix. In this example, we show how the affinity matrix is\ndecomposed using 3 different embedding approaches to obtain the gradients.\n"
      ]
    },
    {
      "cell_type": "markdown",
      "metadata": {},
      "source": [
        "We will start by loading the all the data we need for this example. Instead of\nusing the original vertex-wise connectivity matrix, we are going to load a\n100x100 matrix based on Schaefer et al., 2017 parcellation.\n\n"
      ]
    },
    {
      "cell_type": "code",
      "execution_count": null,
      "metadata": {
        "collapsed": false
      },
      "outputs": [],
      "source": [
        "from brainspace.data.base import load_group_hcp, load_parcellation, load_conte69\n\n# First load mean connectivity matrix and Schaefer parcellation\nconn_matrix = load_group_hcp('schaefer', n_parcels=100)\nlabeling = load_parcellation('schaefer', n_parcels=100)\n\n# and load the conte69 hemisphere surfaces\nsurf_lh, surf_rh = load_conte69()"
      ]
    },
    {
      "cell_type": "markdown",
      "metadata": {},
      "source": [
        "Let's see the parcellation. We are going to append the parcellation to the\nhemispheres and plot them. Note that the parcellation is arranged such that\nthe first elements of the array correspond to the left hemisphere, and the\nremaining to the right.\n\n"
      ]
    },
    {
      "cell_type": "code",
      "execution_count": null,
      "metadata": {
        "collapsed": false
      },
      "outputs": [],
      "source": [
        "from brainspace.plotting import plot_hemispheres\n\n# Let's see the parcellation\n# first we are going to append the parcellation to the hemispheres\nn_pts_lh = surf_lh.n_points\n\nsurf_lh.append_array(labeling[:n_pts_lh], name='Schaefer100', at='point')\nsurf_rh.append_array(labeling[n_pts_lh:], name='Schaefer100', at='point')\n\n# then plot the data on the surface\nplot_hemispheres(surf_lh, surf_rh, array_name='Schaefer100', interactive=False,\n                 embed_nb=True, size=(800, 200), cmap_name='nipy_spectral')"
      ]
    },
    {
      "cell_type": "markdown",
      "metadata": {},
      "source": [
        "We can also see the connectivity matrix correlsponding to the 100\nparcellations loaded above.\n\n"
      ]
    },
    {
      "cell_type": "code",
      "execution_count": null,
      "metadata": {
        "collapsed": false
      },
      "outputs": [],
      "source": [
        "import matplotlib.pyplot as plt\n\n# The mean connectivity matrix built from the HCP data\nplt.imshow(conn_matrix, cmap='hot', interpolation='bilinear')\nax = plt.gca()\nax.xaxis.set_visible(False)\nax.yaxis.set_visible(False)"
      ]
    },
    {
      "cell_type": "markdown",
      "metadata": {},
      "source": [
        "Now, we compute the gradients using 3 different embedding approaches: PCA,\nLaplacian embeddings (i.e., 'le') and Diffusion maps (i.e., 'dm')\n\n"
      ]
    },
    {
      "cell_type": "code",
      "execution_count": null,
      "metadata": {
        "collapsed": false
      },
      "outputs": [],
      "source": [
        "import numpy as np\n\nfrom brainspace.gradient import GradientMaps\nfrom brainspace.utils.parcellation import map_to_labels\n\n# list of embedding approaches\nlist_embedding = ['pca', 'le', 'dm']\n\nmask_cortex = labeling != 0\n\nfor i, emb in enumerate(list_embedding):\n    # We ask for 2 gradients\n    gm = GradientMaps(n_gradients=2, approach=emb, kernel='normalized_angle',\n                      random_state=0)\n\n    # fit to the connectivity matrix\n    gm.fit(conn_matrix)\n\n    # append gradients to the surfaces\n    for k in range(2):\n        array_name = '{emb}_grad{k}'.format(emb=emb, k=k)\n        grad = gm.gradients_[:, k]\n\n        # map the gradient to the parcels (skip non-cortex)\n        grad = map_to_labels(grad, labeling, mask=mask_cortex, fill=np.nan)\n\n        # append to hemispheres\n        # print(\"Appending '%s'\" % array_name)\n        surf_lh.append_array(grad[:n_pts_lh], name=array_name, at='point')\n        surf_rh.append_array(grad[n_pts_lh:], name=array_name, at='point')"
      ]
    },
    {
      "cell_type": "markdown",
      "metadata": {},
      "source": [
        "For each embedding approach, we compute 2 gradients and append them to the\nleft and right surfaces. Note that we have used 'normalized_angle' to build\nthe affinity matrix.\n\nNext, for all embedding approaches, we display the first gradient\n\n"
      ]
    },
    {
      "cell_type": "code",
      "execution_count": null,
      "metadata": {
        "collapsed": false
      },
      "outputs": [],
      "source": [
        "array_names = ['pca_grad0', 'le_grad0', 'dm_grad0']\nplot_hemispheres(surf_lh, surf_rh, array_name=array_names, interactive=False,\n                 embed_nb=True, size=(800, 600), cmap_name='viridis')"
      ]
    },
    {
      "cell_type": "markdown",
      "metadata": {},
      "source": [
        "And the second gradient\n\n"
      ]
    },
    {
      "cell_type": "code",
      "execution_count": null,
      "metadata": {
        "collapsed": false
      },
      "outputs": [],
      "source": [
        "array_names = ['pca_grad1', 'le_grad1', 'dm_grad1']\nplot_hemispheres(surf_lh, surf_rh, array_name=array_names, interactive=False,\n                 embed_nb=True, size=(800, 600), cmap_name='viridis')"
      ]
    },
    {
      "cell_type": "markdown",
      "metadata": {},
      "source": [
        "We can see how the gradients follow the previously described\nsomatomotor-to-visual and defaultmode-to-sensory axes.\n\n"
      ]
    }
  ],
  "metadata": {
    "kernelspec": {
      "display_name": "Python 3",
      "language": "python",
      "name": "python3"
    },
    "language_info": {
      "codemirror_mode": {
        "name": "ipython",
        "version": 3
      },
      "file_extension": ".py",
      "mimetype": "text/x-python",
      "name": "python",
      "nbconvert_exporter": "python",
      "pygments_lexer": "ipython3",
      "version": "3.7.3"
    }
  },
  "nbformat": 4,
  "nbformat_minor": 0
}